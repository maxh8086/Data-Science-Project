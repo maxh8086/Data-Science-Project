{
 "cells": [
  {
   "cell_type": "markdown",
   "id": "0abbe7c5-6817-4fa6-a954-b1bb863cdac7",
   "metadata": {},
   "source": [
    "# Data Science Tool and Ecosystem"
   ]
  },
  {
   "cell_type": "markdown",
   "id": "71539146-e16b-4b17-8321-5f22979a7066",
   "metadata": {},
   "source": [
    "## In this notebook Data Science and tool ecosystem are summarized."
   ]
  },
  {
   "cell_type": "markdown",
   "id": "3b2b1306-6d71-4fdc-88f9-8413bfe54b63",
   "metadata": {},
   "source": [
    "Some of the popular languages that Data Scientists use are:\r",
    "1. Python\n",
    "2. Java\n",
    "3. R\n"
   ]
  },
  {
   "cell_type": "markdown",
   "id": "36e7c9ca-93eb-4f9c-a78e-cd614b11711f",
   "metadata": {},
   "source": [
    "Some of the popular libraries used by Data Scientists include:\n",
    "\n",
    "1. Pandas\r\n",
    "2. NumPy\r\n",
    "3. Matplotlib\r\n",
    "\r\n"
   ]
  },
  {
   "cell_type": "markdown",
   "id": "cf48259c-63fd-4657-98b9-e272dd5ca315",
   "metadata": {},
   "source": [
    "# Data Science Tool\n",
    "\n",
    "Jupyter Lab \n",
    "\n",
    "PyCharm \n",
    "\n",
    "VSCode"
   ]
  },
  {
   "cell_type": "markdown",
   "id": "2684c98d-3c60-413d-91d9-21869d1f29c0",
   "metadata": {},
   "source": [
    "### Below are example of evaluating arithmatic expressions in Python\n",
    "\n"
   ]
  },
  {
   "cell_type": "code",
   "execution_count": 2,
   "id": "d7c6f3d0-fec6-4108-809c-872b48317130",
   "metadata": {},
   "outputs": [
    {
     "data": {
      "text/plain": [
       "17"
      ]
     },
     "execution_count": 2,
     "metadata": {},
     "output_type": "execute_result"
    }
   ],
   "source": [
    "# This a simple arithmetic expression to multiply then add integers\n",
    "(3*4)+5"
   ]
  },
  {
   "cell_type": "code",
   "execution_count": 10,
   "id": "70507d6e-d4d0-45c3-bc4c-09e67c7b3a75",
   "metadata": {},
   "outputs": [
    {
     "data": {
      "text/plain": [
       "'3:20'"
      ]
     },
     "execution_count": 10,
     "metadata": {},
     "output_type": "execute_result"
    }
   ],
   "source": [
    "# This will convert 200 minutes to hours by dividing by 60\n",
    "totalminutes = 200\n",
    "hours = totalminutes // 60\n",
    "minutes = totalminutes % 60\n",
    "f\"{hours}:{minutes:02}\""
   ]
  },
  {
   "cell_type": "markdown",
   "id": "d92dc30b-43cc-47b0-aafd-d2892ba87d98",
   "metadata": {},
   "source": [
    "## **Objective:**\n",
    "- Markup Language\n",
    "- Populer Languages in Python\n",
    "- Populer libraries in Python\n",
    "- Data Science Tools\n",
    "- Artihmatic Expressions"
   ]
  },
  {
   "cell_type": "markdown",
   "id": "15fb22e8-ba58-4b62-b648-e287495e8228",
   "metadata": {},
   "source": [
    "## Author\n",
    "Vaibhav Pavtekar"
   ]
  },
  {
   "cell_type": "code",
   "execution_count": null,
   "id": "94a6bce8-7a50-4177-9019-3b4c27855ab5",
   "metadata": {},
   "outputs": [],
   "source": []
  }
 ],
 "metadata": {
  "kernelspec": {
   "display_name": "Python 3 (ipykernel)",
   "language": "python",
   "name": "python3"
  },
  "language_info": {
   "codemirror_mode": {
    "name": "ipython",
    "version": 3
   },
   "file_extension": ".py",
   "mimetype": "text/x-python",
   "name": "python",
   "nbconvert_exporter": "python",
   "pygments_lexer": "ipython3",
   "version": "3.12.0"
  }
 },
 "nbformat": 4,
 "nbformat_minor": 5
}
